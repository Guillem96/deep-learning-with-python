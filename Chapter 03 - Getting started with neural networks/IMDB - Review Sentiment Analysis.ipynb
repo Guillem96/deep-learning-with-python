{
 "cells": [
  {
   "cell_type": "code",
   "execution_count": 1,
   "metadata": {},
   "outputs": [],
   "source": [
    "from keras.datasets import imdb"
   ]
  },
  {
   "cell_type": "code",
   "execution_count": 2,
   "metadata": {},
   "outputs": [
    {
     "name": "stdout",
     "output_type": "stream",
     "text": [
      "Downloading data from https://s3.amazonaws.com/text-datasets/imdb.npz\n",
      "17465344/17464789 [==============================] - 4s 0us/step\n"
     ]
    }
   ],
   "source": [
    "(train_data, train_labels), (test_data, test_labels) = imdb.load_data(num_words=10000)"
   ]
  },
  {
   "cell_type": "code",
   "execution_count": 3,
   "metadata": {},
   "outputs": [
    {
     "name": "stdout",
     "output_type": "stream",
     "text": [
      "Downloading data from https://s3.amazonaws.com/text-datasets/imdb_word_index.json\n",
      "1646592/1641221 [==============================] - 1s 0us/step\n"
     ]
    }
   ],
   "source": [
    "word_index = imdb.get_word_index()\n",
    "reverse_word_index = dict([(value, key) for (key, value) in word_index.items()])"
   ]
  },
  {
   "cell_type": "code",
   "execution_count": 5,
   "metadata": {},
   "outputs": [
    {
     "data": {
      "text/plain": [
       "\"? this film was just brilliant casting location scenery story direction everyone's really suited the part they played and you could just imagine being there robert ? is an amazing actor and now the same being director ? father came from the same scottish island as myself so i loved the fact there was a real connection with this film the witty remarks throughout the film were great it was just brilliant so much that i bought the film as soon as it was released for ? and would recommend it to everyone to watch and the fly fishing was amazing really cried at the end it was so sad and you know what they say if you cry at a film it must have been good and this definitely was also ? to the two little boy's that played the ? of norman and paul they were just brilliant children are often left out of the ? list i think because the stars that play them all grown up are such a big profile for the whole film but these children are amazing and should be praised for what they have done don't you think the whole story was so lovely because it was true and was someone's life after all that was shared with us all\""
      ]
     },
     "execution_count": 5,
     "metadata": {},
     "output_type": "execute_result"
    }
   ],
   "source": [
    "def decode_review(review):\n",
    "    # Offset by 3 because 0, 1, and 2 are reserved for padding, start, and unknown\n",
    "    return ' '.join([reverse_word_index.get(i - 3, '?') for i in review])\n",
    "\n",
    "decode_review(train_data[0])"
   ]
  },
  {
   "cell_type": "markdown",
   "metadata": {},
   "source": [
    "Converting lists to tensors"
   ]
  },
  {
   "cell_type": "code",
   "execution_count": 6,
   "metadata": {},
   "outputs": [],
   "source": [
    "import numpy as np"
   ]
  },
  {
   "cell_type": "markdown",
   "metadata": {},
   "source": [
    "Using One-hot encoding"
   ]
  },
  {
   "cell_type": "code",
   "execution_count": 7,
   "metadata": {},
   "outputs": [],
   "source": [
    "def vectorize_sequences(sequences, dimention=10000):\n",
    "    results = np.zeros((len(sequences), dimention))\n",
    "    for i, sequence in enumerate(sequences):\n",
    "        results[i, sequence] = 1\n",
    "    return results"
   ]
  },
  {
   "cell_type": "code",
   "execution_count": 9,
   "metadata": {},
   "outputs": [],
   "source": [
    "X_train = vectorize_sequences(train_data)\n",
    "X_test = vectorize_sequences(test_data)"
   ]
  },
  {
   "cell_type": "code",
   "execution_count": 10,
   "metadata": {},
   "outputs": [
    {
     "data": {
      "text/plain": [
       "array([0., 1., 1., ..., 0., 0., 0.])"
      ]
     },
     "execution_count": 10,
     "metadata": {},
     "output_type": "execute_result"
    }
   ],
   "source": [
    "X_train[0]"
   ]
  },
  {
   "cell_type": "code",
   "execution_count": 12,
   "metadata": {},
   "outputs": [],
   "source": [
    "y_train = np.asarray(train_labels).astype(np.float32)\n",
    "y_test = np.asarray(test_labels).astype(np.float32)"
   ]
  },
  {
   "cell_type": "markdown",
   "metadata": {},
   "source": [
    "Building the model"
   ]
  },
  {
   "cell_type": "code",
   "execution_count": 13,
   "metadata": {},
   "outputs": [],
   "source": [
    "from keras import models\n",
    "from keras import layers\n",
    "\n",
    "model = models.Sequential()\n",
    "\n",
    "model.add(layers.Dense(16, activation=\"relu\", input_shape=(10000,)))\n",
    "model.add(layers.Dense(16, activation=\"relu\"))\n",
    "model.add(layers.Dense(1, activation=\"sigmoid\"))"
   ]
  },
  {
   "cell_type": "code",
   "execution_count": 15,
   "metadata": {},
   "outputs": [],
   "source": [
    "model.compile(optimizer=\"rmsprop\",\n",
    "              loss=\"binary_crossentropy\",\n",
    "              metrics=[\"accuracy\"])"
   ]
  },
  {
   "cell_type": "markdown",
   "metadata": {},
   "source": [
    "Using custom metrics and losses"
   ]
  },
  {
   "cell_type": "code",
   "execution_count": 16,
   "metadata": {},
   "outputs": [],
   "source": [
    "from keras import losses\n",
    "from keras import optimizers\n",
    "from keras import metrics\n",
    "\n",
    "model.compile(optimizer=optimizers.RMSprop(lr=0.001),\n",
    "              loss=losses.binary_crossentropy,\n",
    "              metrics=[metrics.binary_accuracy])"
   ]
  },
  {
   "cell_type": "markdown",
   "metadata": {},
   "source": [
    "## Validating the model"
   ]
  },
  {
   "cell_type": "code",
   "execution_count": 18,
   "metadata": {},
   "outputs": [],
   "source": [
    "X_val = X_train[:10000]\n",
    "y_val = y_train[:10000]\n",
    "\n",
    "partial_X_train = X_train[10000:]\n",
    "partial_y_train = y_train[10000:]"
   ]
  },
  {
   "cell_type": "markdown",
   "metadata": {},
   "source": [
    "## Train the model"
   ]
  },
  {
   "cell_type": "code",
   "execution_count": 19,
   "metadata": {},
   "outputs": [
    {
     "name": "stdout",
     "output_type": "stream",
     "text": [
      "Train on 15000 samples, validate on 10000 samples\n",
      "Epoch 1/20\n",
      "15000/15000 [==============================] - 7s 442us/step - loss: 0.4975 - binary_accuracy: 0.7951 - val_loss: 0.3711 - val_binary_accuracy: 0.8718\n",
      "Epoch 2/20\n",
      "15000/15000 [==============================] - 4s 298us/step - loss: 0.2956 - binary_accuracy: 0.9048 - val_loss: 0.2990 - val_binary_accuracy: 0.8903\n",
      "Epoch 3/20\n",
      "15000/15000 [==============================] - 4s 287us/step - loss: 0.2159 - binary_accuracy: 0.9285 - val_loss: 0.3079 - val_binary_accuracy: 0.8723\n",
      "Epoch 4/20\n",
      "15000/15000 [==============================] - 5s 309us/step - loss: 0.1742 - binary_accuracy: 0.9431 - val_loss: 0.2829 - val_binary_accuracy: 0.8846\n",
      "Epoch 5/20\n",
      "15000/15000 [==============================] - 5s 305us/step - loss: 0.1416 - binary_accuracy: 0.9542 - val_loss: 0.2865 - val_binary_accuracy: 0.8845\n",
      "Epoch 6/20\n",
      "15000/15000 [==============================] - 4s 288us/step - loss: 0.1144 - binary_accuracy: 0.9651 - val_loss: 0.3106 - val_binary_accuracy: 0.8797\n",
      "Epoch 7/20\n",
      "15000/15000 [==============================] - 4s 287us/step - loss: 0.0971 - binary_accuracy: 0.9713 - val_loss: 0.3145 - val_binary_accuracy: 0.8841\n",
      "Epoch 8/20\n",
      "15000/15000 [==============================] - 4s 287us/step - loss: 0.0803 - binary_accuracy: 0.9765 - val_loss: 0.3867 - val_binary_accuracy: 0.8656s - loss: 0.0795 - binary_accuracy:\n",
      "Epoch 9/20\n",
      "15000/15000 [==============================] - 5s 301us/step - loss: 0.0658 - binary_accuracy: 0.9819 - val_loss: 0.3652 - val_binary_accuracy: 0.8779\n",
      "Epoch 10/20\n",
      "15000/15000 [==============================] - 4s 284us/step - loss: 0.0554 - binary_accuracy: 0.9853 - val_loss: 0.3863 - val_binary_accuracy: 0.8789\n",
      "Epoch 11/20\n",
      "15000/15000 [==============================] - 4s 293us/step - loss: 0.0454 - binary_accuracy: 0.9887 - val_loss: 0.4181 - val_binary_accuracy: 0.8762\n",
      "Epoch 12/20\n",
      "15000/15000 [==============================] - 4s 289us/step - loss: 0.0386 - binary_accuracy: 0.9911 - val_loss: 0.4521 - val_binary_accuracy: 0.8698\n",
      "Epoch 13/20\n",
      "15000/15000 [==============================] - 4s 286us/step - loss: 0.0298 - binary_accuracy: 0.9937 - val_loss: 0.4714 - val_binary_accuracy: 0.8730\n",
      "Epoch 14/20\n",
      "15000/15000 [==============================] - 4s 290us/step - loss: 0.0244 - binary_accuracy: 0.9949 - val_loss: 0.5023 - val_binary_accuracy: 0.8716\n",
      "Epoch 15/20\n",
      "15000/15000 [==============================] - 4s 288us/step - loss: 0.0185 - binary_accuracy: 0.9974 - val_loss: 0.5319 - val_binary_accuracy: 0.8698\n",
      "Epoch 16/20\n",
      "15000/15000 [==============================] - 4s 297us/step - loss: 0.0156 - binary_accuracy: 0.9981 - val_loss: 0.5718 - val_binary_accuracy: 0.8689\n",
      "Epoch 17/20\n",
      "15000/15000 [==============================] - 4s 292us/step - loss: 0.0147 - binary_accuracy: 0.9975 - val_loss: 0.6006 - val_binary_accuracy: 0.8678\n",
      "Epoch 18/20\n",
      "15000/15000 [==============================] - 4s 287us/step - loss: 0.0103 - binary_accuracy: 0.9987 - val_loss: 0.6302 - val_binary_accuracy: 0.8667\n",
      "Epoch 19/20\n",
      "15000/15000 [==============================] - 5s 306us/step - loss: 0.0059 - binary_accuracy: 0.9998 - val_loss: 0.7324 - val_binary_accuracy: 0.8559\n",
      "Epoch 20/20\n",
      "15000/15000 [==============================] - 5s 314us/step - loss: 0.0104 - binary_accuracy: 0.9979 - val_loss: 0.6973 - val_binary_accuracy: 0.8660\n"
     ]
    }
   ],
   "source": [
    "history = model.fit(partial_X_train, \n",
    "                    partial_y_train,\n",
    "                    epochs=20,\n",
    "                    batch_size=512,\n",
    "                    validation_data=(X_val, y_val))"
   ]
  },
  {
   "cell_type": "code",
   "execution_count": 21,
   "metadata": {},
   "outputs": [
    {
     "data": {
      "text/plain": [
       "dict_keys(['val_loss', 'val_binary_accuracy', 'loss', 'binary_accuracy'])"
      ]
     },
     "execution_count": 21,
     "metadata": {},
     "output_type": "execute_result"
    }
   ],
   "source": [
    "history_dict = history.history\n",
    "history_dict.keys()"
   ]
  },
  {
   "cell_type": "code",
   "execution_count": 25,
   "metadata": {},
   "outputs": [
    {
     "data": {
      "image/png": "[encoded data removed]",
      "text/plain": [
       "<Figure size 432x288 with 1 Axes>"
      ]
     },
     "metadata": {
      "needs_background": "light"
     },
     "output_type": "display_data"
    }
   ],
   "source": [
    "import matplotlib.pyplot as plt\n",
    "%matplotlib inline  \n",
    "\n",
    "loss_values = history_dict[\"loss\"]\n",
    "val_loss_values = history_dict['val_loss']\n",
    "\n",
    "epochs = np.arange(1, 21, 1)\n",
    "\n",
    "plt.plot(epochs, loss_values, 'bo', label='Training losses')\n",
    "plt.plot(epochs, val_loss_values, 'b', label='Validation losses')\n",
    "plt.title('Training and validation loss')\n",
    "plt.xlabel('Epochs')\n",
    "plt.ylabel('Loss')\n",
    "plt.legend()\n",
    "\n",
    "plt.show()"
   ]
  },
  {
   "cell_type": "code",
   "execution_count": 27,
   "metadata": {},
   "outputs": [
    {
     "data": {
      "image/png": "[encoded data removed]",
      "text/plain": [
       "<Figure size 432x288 with 1 Axes>"
      ]
     },
     "metadata": {
      "needs_background": "light"
     },
     "output_type": "display_data"
    }
   ],
   "source": [
    "acc_values = history_dict[\"binary_accuracy\"]\n",
    "val_acc_values = history_dict['val_binary_accuracy']\n",
    "\n",
    "plt.plot(epochs, acc_values, 'bo', label='Training acc')\n",
    "plt.plot(epochs, val_acc_values, 'b', label='Validation acc')\n",
    "plt.title('Training and validation acc')\n",
    "plt.xlabel('Epochs')\n",
    "plt.ylabel('Accuracy')\n",
    "plt.legend()\n",
    "\n",
    "plt.show()"
   ]
  },
  {
   "cell_type": "code",
   "execution_count": 30,
   "metadata": {},
   "outputs": [
    {
     "name": "stdout",
     "output_type": "stream",
     "text": [
      "Epoch 1/4\n",
      "25000/25000 [==============================] - 7s 285us/step - loss: 0.4599 - binary_accuracy: 0.8206\n",
      "Epoch 2/4\n",
      "25000/25000 [==============================] - 5s 200us/step - loss: 0.2622 - binary_accuracy: 0.9094\n",
      "Epoch 3/4\n",
      "25000/25000 [==============================] - 4s 172us/step - loss: 0.2052 - binary_accuracy: 0.9274\n",
      "Epoch 4/4\n",
      "25000/25000 [==============================] - 4s 171us/step - loss: 0.1720 - binary_accuracy: 0.9401\n",
      "25000/25000 [==============================] - 5s 211us/step\n"
     ]
    }
   ],
   "source": [
    "model = models.Sequential()\n",
    "\n",
    "model.add(layers.Dense(16, activation=\"relu\", input_shape=(10000,)))\n",
    "model.add(layers.Dense(16, activation=\"relu\"))\n",
    "model.add(layers.Dense(1, activation=\"sigmoid\"))\n",
    "\n",
    "model.compile(optimizer=optimizers.RMSprop(lr=0.001),\n",
    "              loss=losses.binary_crossentropy,\n",
    "              metrics=[metrics.binary_accuracy])\n",
    "\n",
    "model.fit(X_train, y_train, epochs=4, batch_size=512)\n",
    "results = model.evaluate(X_test, y_test)"
   ]
  },
  {
   "cell_type": "code",
   "execution_count": 31,
   "metadata": {},
   "outputs": [
    {
     "data": {
      "text/plain": [
       "array([[0.17550963],\n",
       "       [0.9998741 ],\n",
       "       [0.88147074],\n",
       "       [0.7664327 ],\n",
       "       [0.93492573],\n",
       "       [0.8125824 ],\n",
       "       [0.9975164 ],\n",
       "       [0.01360782],\n",
       "       [0.95551646],\n",
       "       [0.9866882 ]], dtype=float32)"
      ]
     },
     "execution_count": 31,
     "metadata": {},
     "output_type": "execute_result"
    }
   ],
   "source": [
    "model.predict(X_test[:10])"
   ]
  }
 ],
 "metadata": {
  "kernelspec": {
   "display_name": "Python 3",
   "language": "python",
   "name": "python3"
  },
  "language_info": {
   "codemirror_mode": {
    "name": "ipython",
    "version": 3
   },
   "file_extension": ".py",
   "mimetype": "text/x-python",
   "name": "python",
   "nbconvert_exporter": "python",
   "pygments_lexer": "ipython3",
   "version": "3.6.8"
  }
 },
 "nbformat": 4,
 "nbformat_minor": 2
}
