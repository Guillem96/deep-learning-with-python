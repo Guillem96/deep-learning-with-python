{
 "cells": [
  {
   "cell_type": "markdown",
   "metadata": {},
   "source": [
    "# Introduction to TensorBoard\n",
    "\n",
    "Tensorboard is a browser-based visualization tool that comes packaged with TensorFlow. The key pupose of TensorBoard is to help you to visually monitor everything that goes on inside your model during training.\n",
    "\n",
    "TensorBoard features:\n",
    "\n",
    "- Visually monitoring metrics during training\n",
    "- Visualizing your model architecture\n",
    "- Visualizing histograms of activations and gradients\n",
    "- Exploring embedding in 3D"
   ]
  },
  {
   "cell_type": "code",
   "execution_count": 4,
   "metadata": {},
   "outputs": [],
   "source": [
    "import keras\n",
    "from keras import layers\n",
    "from keras.datasets import imdb\n",
    "from keras.preprocessing import sequence"
   ]
  },
  {
   "cell_type": "code",
   "execution_count": 5,
   "metadata": {},
   "outputs": [],
   "source": [
    "max_features = 2000\n",
    "max_len = 500\n",
    "\n",
    "(x_train, y_train), (x_test, y_test) = imdb.load_data(num_words=max_features)\n",
    "x_train = sequence.pad_sequences(x_train, maxlen=max_len)\n",
    "x_test = sequence.pad_sequences(x_test, maxlen=max_len)"
   ]
  },
  {
   "cell_type": "code",
   "execution_count": 6,
   "metadata": {},
   "outputs": [
    {
     "name": "stdout",
     "output_type": "stream",
     "text": [
      "WARNING:tensorflow:From /home/guillem/anaconda3/lib/python3.7/site-packages/tensorflow/python/framework/op_def_library.py:263: colocate_with (from tensorflow.python.framework.ops) is deprecated and will be removed in a future version.\n",
      "Instructions for updating:\n",
      "Colocations handled automatically by placer.\n",
      "_________________________________________________________________\n",
      "Layer (type)                 Output Shape              Param #   \n",
      "=================================================================\n",
      "embed (Embedding)            (None, 500, 128)          256000    \n",
      "_________________________________________________________________\n",
      "conv1d_1 (Conv1D)            (None, 494, 32)           28704     \n",
      "_________________________________________________________________\n",
      "max_pooling1d_1 (MaxPooling1 (None, 98, 32)            0         \n",
      "_________________________________________________________________\n",
      "conv1d_2 (Conv1D)            (None, 92, 32)            7200      \n",
      "_________________________________________________________________\n",
      "global_max_pooling1d_1 (Glob (None, 32)                0         \n",
      "_________________________________________________________________\n",
      "dense_1 (Dense)              (None, 1)                 33        \n",
      "=================================================================\n",
      "Total params: 291,937\n",
      "Trainable params: 291,937\n",
      "Non-trainable params: 0\n",
      "_________________________________________________________________\n"
     ]
    }
   ],
   "source": [
    "model = keras.models.Sequential([\n",
    "    layers.Embedding(max_features, 128, input_length=max_len, name='embed'),\n",
    "    layers.Conv1D(32, 7, activation='relu'),\n",
    "    layers.MaxPool1D(5),\n",
    "    layers.Conv1D(32, 7, activation='relu'),\n",
    "    layers.GlobalMaxPool1D(),\n",
    "    layers.Dense(1, activation='sigmoid')\n",
    "])\n",
    "\n",
    "model.summary()\n",
    "\n",
    "model.compile(optimizer='rmsprop',\n",
    "              loss='binary_crossentropy',\n",
    "              metrics=['acc'])"
   ]
  },
  {
   "cell_type": "code",
   "execution_count": 4,
   "metadata": {},
   "outputs": [
    {
     "name": "stdout",
     "output_type": "stream",
     "text": [
      "mkdir: cannot create directory ‘log_dir’: File exists\r\n"
     ]
    }
   ],
   "source": [
    "!mkdir log_dir"
   ]
  },
  {
   "cell_type": "markdown",
   "metadata": {},
   "source": [
    "Launch the training with a `TensorBoard` callback instance."
   ]
  },
  {
   "cell_type": "code",
   "execution_count": 6,
   "metadata": {
    "scrolled": false
   },
   "outputs": [
    {
     "name": "stdout",
     "output_type": "stream",
     "text": [
      "WARNING:tensorflow:From /home/guillem/anaconda3/lib/python3.7/site-packages/tensorflow/python/ops/math_ops.py:3066: to_int32 (from tensorflow.python.ops.math_ops) is deprecated and will be removed in a future version.\n",
      "Instructions for updating:\n",
      "Use tf.cast instead.\n",
      "WARNING:tensorflow:From /home/guillem/anaconda3/lib/python3.7/site-packages/tensorflow/python/ops/math_grad.py:102: div (from tensorflow.python.ops.math_ops) is deprecated and will be removed in a future version.\n",
      "Instructions for updating:\n",
      "Deprecated in favor of operator or tf.math.divide.\n",
      "Train on 20000 samples, validate on 5000 samples\n",
      "Epoch 1/20\n",
      "20000/20000 [==============================] - 51s 3ms/step - loss: 0.5414 - acc: 0.7079 - val_loss: 0.3625 - val_acc: 0.8440\n",
      "Epoch 2/20\n",
      "20000/20000 [==============================] - 50s 3ms/step - loss: 0.3299 - acc: 0.8588 - val_loss: 0.3240 - val_acc: 0.8660\n",
      "Epoch 3/20\n",
      "20000/20000 [==============================] - 53s 3ms/step - loss: 0.2845 - acc: 0.8821 - val_loss: 0.4010 - val_acc: 0.8298\n",
      "Epoch 4/20\n",
      "20000/20000 [==============================] - 62s 3ms/step - loss: 0.2510 - acc: 0.8997 - val_loss: 0.3351 - val_acc: 0.8594\n",
      "Epoch 5/20\n",
      "20000/20000 [==============================] - 52s 3ms/step - loss: 0.2194 - acc: 0.9157 - val_loss: 0.3230 - val_acc: 0.8676\n",
      "Epoch 6/20\n",
      "20000/20000 [==============================] - 51s 3ms/step - loss: 0.1885 - acc: 0.9281 - val_loss: 0.3278 - val_acc: 0.8676\n",
      "WARNING:tensorflow:From /home/guillem/anaconda3/lib/python3.7/site-packages/tensorflow/python/training/saver.py:966: remove_checkpoint (from tensorflow.python.training.checkpoint_management) is deprecated and will be removed in a future version.\n",
      "Instructions for updating:\n",
      "Use standard file APIs to delete files with this prefix.\n",
      "Epoch 7/20\n",
      "20000/20000 [==============================] - 56s 3ms/step - loss: 0.1547 - acc: 0.9446 - val_loss: 0.3803 - val_acc: 0.8562\n",
      "Epoch 8/20\n",
      "20000/20000 [==============================] - 50s 2ms/step - loss: 0.1250 - acc: 0.9580 - val_loss: 0.4260 - val_acc: 0.8494\n",
      "Epoch 9/20\n",
      "20000/20000 [==============================] - 50s 3ms/step - loss: 0.0949 - acc: 0.9713 - val_loss: 0.4192 - val_acc: 0.8540\n",
      "Epoch 10/20\n",
      "20000/20000 [==============================] - 50s 3ms/step - loss: 0.0661 - acc: 0.9828 - val_loss: 0.4767 - val_acc: 0.8528\n",
      "Epoch 11/20\n",
      "20000/20000 [==============================] - 51s 3ms/step - loss: 0.0440 - acc: 0.9893 - val_loss: 0.4685 - val_acc: 0.8628\n",
      "Epoch 12/20\n",
      "20000/20000 [==============================] - 50s 3ms/step - loss: 0.0284 - acc: 0.9940 - val_loss: 0.5274 - val_acc: 0.8602\n",
      "Epoch 13/20\n",
      "20000/20000 [==============================] - 51s 3ms/step - loss: 0.0186 - acc: 0.9963 - val_loss: 0.5594 - val_acc: 0.8582\n",
      "Epoch 14/20\n",
      "20000/20000 [==============================] - 51s 3ms/step - loss: 0.0113 - acc: 0.9976 - val_loss: 0.6215 - val_acc: 0.8612\n",
      "Epoch 15/20\n",
      "20000/20000 [==============================] - 57s 3ms/step - loss: 0.0077 - acc: 0.9983 - val_loss: 0.6511 - val_acc: 0.8592\n",
      "Epoch 16/20\n",
      "20000/20000 [==============================] - 50s 3ms/step - loss: 0.0061 - acc: 0.9986 - val_loss: 0.7169 - val_acc: 0.8562\n",
      "Epoch 17/20\n",
      "20000/20000 [==============================] - 50s 2ms/step - loss: 0.0038 - acc: 0.9994 - val_loss: 0.7150 - val_acc: 0.8578\n",
      "Epoch 18/20\n",
      "20000/20000 [==============================] - 50s 2ms/step - loss: 0.0027 - acc: 0.9995 - val_loss: 0.7723 - val_acc: 0.8550\n",
      "Epoch 19/20\n",
      "20000/20000 [==============================] - 51s 3ms/step - loss: 0.0023 - acc: 0.9994 - val_loss: 0.8047 - val_acc: 0.8592\n",
      "Epoch 20/20\n",
      "20000/20000 [==============================] - 53s 3ms/step - loss: 0.0012 - acc: 0.9996 - val_loss: 0.8279 - val_acc: 0.8540\n"
     ]
    }
   ],
   "source": [
    "callbacks = [\n",
    "    keras.callbacks.TensorBoard(\n",
    "        log_dir='log_dir',\n",
    "        histogram_freq=1,\n",
    "        embeddings_freq=1,\n",
    "        embeddings_data=x_train[:100]\n",
    "    )\n",
    "]\n",
    "\n",
    "history = model.fit(x_train, y_train,\n",
    "                    epochs=20,\n",
    "                    batch_size=128,\n",
    "                    validation_split=.2,\n",
    "                    callbacks=callbacks)"
   ]
  },
  {
   "cell_type": "markdown",
   "metadata": {},
   "source": [
    "## Embeddings\n",
    "\n",
    "![](embeddings.png)\n",
    "\n",
    "## Graph\n",
    "\n",
    "![](graph.png)\n",
    "\n",
    "## Distributions\n",
    "\n",
    "![](hist.png)"
   ]
  },
  {
   "cell_type": "markdown",
   "metadata": {},
   "source": [
    "## Plot models in keras"
   ]
  },
  {
   "cell_type": "code",
   "execution_count": 8,
   "metadata": {},
   "outputs": [],
   "source": [
    "from keras.utils import plot_model\n",
    "\n",
    "plot_model(model, to_file='model.png')"
   ]
  },
  {
   "cell_type": "markdown",
   "metadata": {},
   "source": [
    "![](model.png)"
   ]
  },
  {
   "cell_type": "code",
   "execution_count": 9,
   "metadata": {},
   "outputs": [],
   "source": [
    "plot_model(model, show_shapes=True, to_file='model_with_shapes.png')"
   ]
  },
  {
   "cell_type": "markdown",
   "metadata": {},
   "source": [
    "![](model_with_shapes.png)"
   ]
  }
 ],
 "metadata": {
  "kernelspec": {
   "display_name": "Python 3",
   "language": "python",
   "name": "python3"
  },
  "language_info": {
   "codemirror_mode": {
    "name": "ipython",
    "version": 3
   },
   "file_extension": ".py",
   "mimetype": "text/x-python",
   "name": "python",
   "nbconvert_exporter": "python",
   "pygments_lexer": "ipython3",
   "version": "3.7.0"
  }
 },
 "nbformat": 4,
 "nbformat_minor": 2
}
