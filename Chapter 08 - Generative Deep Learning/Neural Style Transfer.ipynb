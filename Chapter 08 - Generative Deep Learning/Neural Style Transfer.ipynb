{
 "cells": [
  {
   "cell_type": "markdown",
   "metadata": {},
   "source": [
    "# Neural Style Transfer\n",
    "\n",
    "Neural style transfer consist of applying the style of a reference image to a targe image while conserving the conent of the target.\n",
    "\n",
    "![](neural-style-transfer.jpeg)\n",
    "\n",
    "In this context, *style* means texture, colors, and visual patterns in the image, at caripus spatial scales; and the *content* is the higher-level macrostructure of the image.\n",
    "\n",
    "The key notion behind implementing style transfer is the sam idea that's central to all deep learning algorithms: you define a loss function to specify what you want to achieve, in this case *applying the style of a reference image to a targe image while conserving the conent of the target*. Then an appropiate loss function to minimize would be the following:\n",
    "\n",
    "```\n",
    "loss = distance(style(reference_image) - style(generated_image)) + \n",
    "        distance(content(original_image) - content(generated_image))\n",
    "```\n",
    "\n",
    "- `distance`: L2 norm\n",
    "- `content`: function that takes an image and computes a representation of its content (CNNs can encode content) \n",
    "- `style`: function that takes an image and computes a representations of its style (CNNs can encode style)\n",
    "\n",
    "So ->\n",
    "\n",
    "- Preserve content by maintaining similar high-level layer activations between the target content and the generated one.\n",
    "- Preserve style by maintaining similar *correlations* within activation for both lower-level layers and high-level-layers. Feature correlations capture *textures*. "
   ]
  },
  {
   "cell_type": "markdown",
   "metadata": {},
   "source": [
    "## A Neural Algorithm of Artistic Style (2015) implementation"
   ]
  },
  {
   "cell_type": "code",
   "execution_count": null,
   "metadata": {},
   "outputs": [],
   "source": []
  },
  {
   "cell_type": "code",
   "execution_count": null,
   "metadata": {},
   "outputs": [],
   "source": []
  },
  {
   "cell_type": "code",
   "execution_count": null,
   "metadata": {},
   "outputs": [],
   "source": []
  }
 ],
 "metadata": {
  "kernelspec": {
   "display_name": "Python 3",
   "language": "python",
   "name": "python3"
  },
  "language_info": {
   "codemirror_mode": {
    "name": "ipython",
    "version": 3
   },
   "file_extension": ".py",
   "mimetype": "text/x-python",
   "name": "python",
   "nbconvert_exporter": "python",
   "pygments_lexer": "ipython3",
   "version": "3.7.0"
  }
 },
 "nbformat": 4,
 "nbformat_minor": 2
}
